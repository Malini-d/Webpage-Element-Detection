{
  "nbformat": 4,
  "nbformat_minor": 0,
  "metadata": {
    "colab": {
      "provenance": [],
      "gpuType": "T4"
    },
    "kernelspec": {
      "name": "python3",
      "display_name": "Python 3"
    },
    "language_info": {
      "name": "python"
    },
    "accelerator": "GPU"
  },
  "cells": [
    {
      "cell_type": "code",
      "source": [
        "from google.colab import drive\n",
        "drive.mount('/content/gdrive')"
      ],
      "metadata": {
        "colab": {
          "base_uri": "https://localhost:8080/"
        },
        "id": "pzIKQa2UoO2M",
        "outputId": "6a251029-af5b-4d26-d7de-fdf3dbe4d587"
      },
      "execution_count": null,
      "outputs": [
        {
          "output_type": "stream",
          "name": "stdout",
          "text": [
            "Mounted at /content/gdrive\n"
          ]
        }
      ]
    },
    {
      "cell_type": "code",
      "source": [
        "!ln -s /content/gdrive/My\\ Drive/ /mydrive"
      ],
      "metadata": {
        "id": "zeMflmaBoZji"
      },
      "execution_count": null,
      "outputs": []
    },
    {
      "cell_type": "code",
      "source": [
        "%cd /content/gdrive/MyDrive/yolov9"
      ],
      "metadata": {
        "colab": {
          "base_uri": "https://localhost:8080/"
        },
        "id": "sb-B1aAoovHU",
        "outputId": "6080677e-e6b6-457d-b369-dac60d26fc2c"
      },
      "execution_count": null,
      "outputs": [
        {
          "output_type": "stream",
          "name": "stdout",
          "text": [
            "/content/gdrive/MyDrive/yolov9\n"
          ]
        }
      ]
    },
    {
      "cell_type": "code",
      "source": [
        "!git clone https://github.com/WongKinYiu/yolov9.git"
      ],
      "metadata": {
        "colab": {
          "base_uri": "https://localhost:8080/"
        },
        "id": "39LVAaNho1hI",
        "outputId": "1cc5d10c-0c97-4267-f73e-a5b63bbf3b84"
      },
      "execution_count": null,
      "outputs": [
        {
          "output_type": "stream",
          "name": "stdout",
          "text": [
            "fatal: destination path 'yolov9' already exists and is not an empty directory.\n"
          ]
        }
      ]
    },
    {
      "cell_type": "code",
      "source": [
        "%cd yolov9"
      ],
      "metadata": {
        "colab": {
          "base_uri": "https://localhost:8080/"
        },
        "id": "KpsqutLSpID_",
        "outputId": "ade01afa-9d01-4f48-c81d-9ba1abaa1980"
      },
      "execution_count": null,
      "outputs": [
        {
          "output_type": "stream",
          "name": "stdout",
          "text": [
            "/content/gdrive/MyDrive/yolov9/yolov9\n"
          ]
        }
      ]
    },
    {
      "cell_type": "code",
      "source": [
        "!pip install -r requirements.txt"
      ],
      "metadata": {
        "colab": {
          "base_uri": "https://localhost:8080/"
        },
        "id": "vdxJUueOpLPp",
        "outputId": "4b4b3801-853c-4f3b-eafa-790c619ae694"
      },
      "execution_count": null,
      "outputs": [
        {
          "output_type": "stream",
          "name": "stdout",
          "text": [
            "Collecting gitpython (from -r requirements.txt (line 5))\n",
            "  Downloading GitPython-3.1.43-py3-none-any.whl (207 kB)\n",
            "\u001b[?25l     \u001b[90m━━━━━━━━━━━━━━━━━━━━━━━━━━━━━━━━━━━━━━━━\u001b[0m \u001b[32m0.0/207.3 kB\u001b[0m \u001b[31m?\u001b[0m eta \u001b[36m-:--:--\u001b[0m\r\u001b[2K     \u001b[91m━━━━━━━━━━━━━━━━━━━━━━━━━━━━━━━━━━━━━━━\u001b[0m\u001b[91m╸\u001b[0m \u001b[32m204.8/207.3 kB\u001b[0m \u001b[31m6.6 MB/s\u001b[0m eta \u001b[36m0:00:01\u001b[0m\r\u001b[2K     \u001b[90m━━━━━━━━━━━━━━━━━━━━━━━━━━━━━━━━━━━━━━━━\u001b[0m \u001b[32m207.3/207.3 kB\u001b[0m \u001b[31m5.4 MB/s\u001b[0m eta \u001b[36m0:00:00\u001b[0m\n",
            "\u001b[?25hRequirement already satisfied: ipython in /usr/local/lib/python3.10/dist-packages (from -r requirements.txt (line 6)) (7.34.0)\n",
            "Requirement already satisfied: matplotlib>=3.2.2 in /usr/local/lib/python3.10/dist-packages (from -r requirements.txt (line 7)) (3.7.1)\n",
            "Requirement already satisfied: numpy>=1.18.5 in /usr/local/lib/python3.10/dist-packages (from -r requirements.txt (line 8)) (1.25.2)\n",
            "Requirement already satisfied: opencv-python>=4.1.1 in /usr/local/lib/python3.10/dist-packages (from -r requirements.txt (line 9)) (4.8.0.76)\n",
            "Requirement already satisfied: Pillow>=7.1.2 in /usr/local/lib/python3.10/dist-packages (from -r requirements.txt (line 10)) (9.4.0)\n",
            "Requirement already satisfied: psutil in /usr/local/lib/python3.10/dist-packages (from -r requirements.txt (line 11)) (5.9.5)\n",
            "Requirement already satisfied: PyYAML>=5.3.1 in /usr/local/lib/python3.10/dist-packages (from -r requirements.txt (line 12)) (6.0.1)\n",
            "Requirement already satisfied: requests>=2.23.0 in /usr/local/lib/python3.10/dist-packages (from -r requirements.txt (line 13)) (2.31.0)\n",
            "Requirement already satisfied: scipy>=1.4.1 in /usr/local/lib/python3.10/dist-packages (from -r requirements.txt (line 14)) (1.11.4)\n",
            "Collecting thop>=0.1.1 (from -r requirements.txt (line 15))\n",
            "  Downloading thop-0.1.1.post2209072238-py3-none-any.whl (15 kB)\n",
            "Requirement already satisfied: torch>=1.7.0 in /usr/local/lib/python3.10/dist-packages (from -r requirements.txt (line 16)) (2.2.1+cu121)\n",
            "Requirement already satisfied: torchvision>=0.8.1 in /usr/local/lib/python3.10/dist-packages (from -r requirements.txt (line 17)) (0.17.1+cu121)\n",
            "Requirement already satisfied: tqdm>=4.64.0 in /usr/local/lib/python3.10/dist-packages (from -r requirements.txt (line 18)) (4.66.2)\n",
            "Requirement already satisfied: tensorboard>=2.4.1 in /usr/local/lib/python3.10/dist-packages (from -r requirements.txt (line 22)) (2.15.2)\n",
            "Requirement already satisfied: pandas>=1.1.4 in /usr/local/lib/python3.10/dist-packages (from -r requirements.txt (line 27)) (2.0.3)\n",
            "Requirement already satisfied: seaborn>=0.11.0 in /usr/local/lib/python3.10/dist-packages (from -r requirements.txt (line 28)) (0.13.1)\n",
            "Requirement already satisfied: albumentations>=1.0.3 in /usr/local/lib/python3.10/dist-packages (from -r requirements.txt (line 46)) (1.3.1)\n",
            "Requirement already satisfied: pycocotools>=2.0 in /usr/local/lib/python3.10/dist-packages (from -r requirements.txt (line 47)) (2.0.7)\n",
            "Collecting gitdb<5,>=4.0.1 (from gitpython->-r requirements.txt (line 5))\n",
            "  Downloading gitdb-4.0.11-py3-none-any.whl (62 kB)\n",
            "\u001b[2K     \u001b[90m━━━━━━━━━━━━━━━━━━━━━━━━━━━━━━━━━━━━━━━━\u001b[0m \u001b[32m62.7/62.7 kB\u001b[0m \u001b[31m4.2 MB/s\u001b[0m eta \u001b[36m0:00:00\u001b[0m\n",
            "\u001b[?25hRequirement already satisfied: setuptools>=18.5 in /usr/local/lib/python3.10/dist-packages (from ipython->-r requirements.txt (line 6)) (67.7.2)\n",
            "Collecting jedi>=0.16 (from ipython->-r requirements.txt (line 6))\n",
            "  Downloading jedi-0.19.1-py2.py3-none-any.whl (1.6 MB)\n",
            "\u001b[2K     \u001b[90m━━━━━━━━━━━━━━━━━━━━━━━━━━━━━━━━━━━━━━━━\u001b[0m \u001b[32m1.6/1.6 MB\u001b[0m \u001b[31m19.4 MB/s\u001b[0m eta \u001b[36m0:00:00\u001b[0m\n",
            "\u001b[?25hRequirement already satisfied: decorator in /usr/local/lib/python3.10/dist-packages (from ipython->-r requirements.txt (line 6)) (4.4.2)\n",
            "Requirement already satisfied: pickleshare in /usr/local/lib/python3.10/dist-packages (from ipython->-r requirements.txt (line 6)) (0.7.5)\n",
            "Requirement already satisfied: traitlets>=4.2 in /usr/local/lib/python3.10/dist-packages (from ipython->-r requirements.txt (line 6)) (5.7.1)\n",
            "Requirement already satisfied: prompt-toolkit!=3.0.0,!=3.0.1,<3.1.0,>=2.0.0 in /usr/local/lib/python3.10/dist-packages (from ipython->-r requirements.txt (line 6)) (3.0.43)\n",
            "Requirement already satisfied: pygments in /usr/local/lib/python3.10/dist-packages (from ipython->-r requirements.txt (line 6)) (2.16.1)\n",
            "Requirement already satisfied: backcall in /usr/local/lib/python3.10/dist-packages (from ipython->-r requirements.txt (line 6)) (0.2.0)\n",
            "Requirement already satisfied: matplotlib-inline in /usr/local/lib/python3.10/dist-packages (from ipython->-r requirements.txt (line 6)) (0.1.7)\n",
            "Requirement already satisfied: pexpect>4.3 in /usr/local/lib/python3.10/dist-packages (from ipython->-r requirements.txt (line 6)) (4.9.0)\n",
            "Requirement already satisfied: contourpy>=1.0.1 in /usr/local/lib/python3.10/dist-packages (from matplotlib>=3.2.2->-r requirements.txt (line 7)) (1.2.1)\n",
            "Requirement already satisfied: cycler>=0.10 in /usr/local/lib/python3.10/dist-packages (from matplotlib>=3.2.2->-r requirements.txt (line 7)) (0.12.1)\n",
            "Requirement already satisfied: fonttools>=4.22.0 in /usr/local/lib/python3.10/dist-packages (from matplotlib>=3.2.2->-r requirements.txt (line 7)) (4.51.0)\n",
            "Requirement already satisfied: kiwisolver>=1.0.1 in /usr/local/lib/python3.10/dist-packages (from matplotlib>=3.2.2->-r requirements.txt (line 7)) (1.4.5)\n",
            "Requirement already satisfied: packaging>=20.0 in /usr/local/lib/python3.10/dist-packages (from matplotlib>=3.2.2->-r requirements.txt (line 7)) (24.0)\n",
            "Requirement already satisfied: pyparsing>=2.3.1 in /usr/local/lib/python3.10/dist-packages (from matplotlib>=3.2.2->-r requirements.txt (line 7)) (3.1.2)\n",
            "Requirement already satisfied: python-dateutil>=2.7 in /usr/local/lib/python3.10/dist-packages (from matplotlib>=3.2.2->-r requirements.txt (line 7)) (2.8.2)\n",
            "Requirement already satisfied: charset-normalizer<4,>=2 in /usr/local/lib/python3.10/dist-packages (from requests>=2.23.0->-r requirements.txt (line 13)) (3.3.2)\n",
            "Requirement already satisfied: idna<4,>=2.5 in /usr/local/lib/python3.10/dist-packages (from requests>=2.23.0->-r requirements.txt (line 13)) (3.7)\n",
            "Requirement already satisfied: urllib3<3,>=1.21.1 in /usr/local/lib/python3.10/dist-packages (from requests>=2.23.0->-r requirements.txt (line 13)) (2.0.7)\n",
            "Requirement already satisfied: certifi>=2017.4.17 in /usr/local/lib/python3.10/dist-packages (from requests>=2.23.0->-r requirements.txt (line 13)) (2024.2.2)\n",
            "Requirement already satisfied: filelock in /usr/local/lib/python3.10/dist-packages (from torch>=1.7.0->-r requirements.txt (line 16)) (3.13.4)\n",
            "Requirement already satisfied: typing-extensions>=4.8.0 in /usr/local/lib/python3.10/dist-packages (from torch>=1.7.0->-r requirements.txt (line 16)) (4.11.0)\n",
            "Requirement already satisfied: sympy in /usr/local/lib/python3.10/dist-packages (from torch>=1.7.0->-r requirements.txt (line 16)) (1.12)\n",
            "Requirement already satisfied: networkx in /usr/local/lib/python3.10/dist-packages (from torch>=1.7.0->-r requirements.txt (line 16)) (3.3)\n",
            "Requirement already satisfied: jinja2 in /usr/local/lib/python3.10/dist-packages (from torch>=1.7.0->-r requirements.txt (line 16)) (3.1.3)\n",
            "Requirement already satisfied: fsspec in /usr/local/lib/python3.10/dist-packages (from torch>=1.7.0->-r requirements.txt (line 16)) (2023.6.0)\n",
            "Collecting nvidia-cuda-nvrtc-cu12==12.1.105 (from torch>=1.7.0->-r requirements.txt (line 16))\n",
            "  Using cached nvidia_cuda_nvrtc_cu12-12.1.105-py3-none-manylinux1_x86_64.whl (23.7 MB)\n",
            "Collecting nvidia-cuda-runtime-cu12==12.1.105 (from torch>=1.7.0->-r requirements.txt (line 16))\n",
            "  Using cached nvidia_cuda_runtime_cu12-12.1.105-py3-none-manylinux1_x86_64.whl (823 kB)\n",
            "Collecting nvidia-cuda-cupti-cu12==12.1.105 (from torch>=1.7.0->-r requirements.txt (line 16))\n",
            "  Using cached nvidia_cuda_cupti_cu12-12.1.105-py3-none-manylinux1_x86_64.whl (14.1 MB)\n",
            "Collecting nvidia-cudnn-cu12==8.9.2.26 (from torch>=1.7.0->-r requirements.txt (line 16))\n",
            "  Using cached nvidia_cudnn_cu12-8.9.2.26-py3-none-manylinux1_x86_64.whl (731.7 MB)\n",
            "Collecting nvidia-cublas-cu12==12.1.3.1 (from torch>=1.7.0->-r requirements.txt (line 16))\n",
            "  Using cached nvidia_cublas_cu12-12.1.3.1-py3-none-manylinux1_x86_64.whl (410.6 MB)\n",
            "Collecting nvidia-cufft-cu12==11.0.2.54 (from torch>=1.7.0->-r requirements.txt (line 16))\n",
            "  Using cached nvidia_cufft_cu12-11.0.2.54-py3-none-manylinux1_x86_64.whl (121.6 MB)\n",
            "Collecting nvidia-curand-cu12==10.3.2.106 (from torch>=1.7.0->-r requirements.txt (line 16))\n",
            "  Using cached nvidia_curand_cu12-10.3.2.106-py3-none-manylinux1_x86_64.whl (56.5 MB)\n",
            "Collecting nvidia-cusolver-cu12==11.4.5.107 (from torch>=1.7.0->-r requirements.txt (line 16))\n",
            "  Using cached nvidia_cusolver_cu12-11.4.5.107-py3-none-manylinux1_x86_64.whl (124.2 MB)\n",
            "Collecting nvidia-cusparse-cu12==12.1.0.106 (from torch>=1.7.0->-r requirements.txt (line 16))\n",
            "  Using cached nvidia_cusparse_cu12-12.1.0.106-py3-none-manylinux1_x86_64.whl (196.0 MB)\n",
            "Collecting nvidia-nccl-cu12==2.19.3 (from torch>=1.7.0->-r requirements.txt (line 16))\n",
            "  Using cached nvidia_nccl_cu12-2.19.3-py3-none-manylinux1_x86_64.whl (166.0 MB)\n",
            "Collecting nvidia-nvtx-cu12==12.1.105 (from torch>=1.7.0->-r requirements.txt (line 16))\n",
            "  Using cached nvidia_nvtx_cu12-12.1.105-py3-none-manylinux1_x86_64.whl (99 kB)\n",
            "Requirement already satisfied: triton==2.2.0 in /usr/local/lib/python3.10/dist-packages (from torch>=1.7.0->-r requirements.txt (line 16)) (2.2.0)\n",
            "Collecting nvidia-nvjitlink-cu12 (from nvidia-cusolver-cu12==11.4.5.107->torch>=1.7.0->-r requirements.txt (line 16))\n",
            "  Using cached nvidia_nvjitlink_cu12-12.4.127-py3-none-manylinux2014_x86_64.whl (21.1 MB)\n",
            "Requirement already satisfied: absl-py>=0.4 in /usr/local/lib/python3.10/dist-packages (from tensorboard>=2.4.1->-r requirements.txt (line 22)) (1.4.0)\n",
            "Requirement already satisfied: grpcio>=1.48.2 in /usr/local/lib/python3.10/dist-packages (from tensorboard>=2.4.1->-r requirements.txt (line 22)) (1.62.1)\n",
            "Requirement already satisfied: google-auth<3,>=1.6.3 in /usr/local/lib/python3.10/dist-packages (from tensorboard>=2.4.1->-r requirements.txt (line 22)) (2.27.0)\n",
            "Requirement already satisfied: google-auth-oauthlib<2,>=0.5 in /usr/local/lib/python3.10/dist-packages (from tensorboard>=2.4.1->-r requirements.txt (line 22)) (1.2.0)\n",
            "Requirement already satisfied: markdown>=2.6.8 in /usr/local/lib/python3.10/dist-packages (from tensorboard>=2.4.1->-r requirements.txt (line 22)) (3.6)\n",
            "Requirement already satisfied: protobuf!=4.24.0,>=3.19.6 in /usr/local/lib/python3.10/dist-packages (from tensorboard>=2.4.1->-r requirements.txt (line 22)) (3.20.3)\n",
            "Requirement already satisfied: six>1.9 in /usr/local/lib/python3.10/dist-packages (from tensorboard>=2.4.1->-r requirements.txt (line 22)) (1.16.0)\n",
            "Requirement already satisfied: tensorboard-data-server<0.8.0,>=0.7.0 in /usr/local/lib/python3.10/dist-packages (from tensorboard>=2.4.1->-r requirements.txt (line 22)) (0.7.2)\n",
            "Requirement already satisfied: werkzeug>=1.0.1 in /usr/local/lib/python3.10/dist-packages (from tensorboard>=2.4.1->-r requirements.txt (line 22)) (3.0.2)\n",
            "Requirement already satisfied: pytz>=2020.1 in /usr/local/lib/python3.10/dist-packages (from pandas>=1.1.4->-r requirements.txt (line 27)) (2023.4)\n",
            "Requirement already satisfied: tzdata>=2022.1 in /usr/local/lib/python3.10/dist-packages (from pandas>=1.1.4->-r requirements.txt (line 27)) (2024.1)\n",
            "Requirement already satisfied: scikit-image>=0.16.1 in /usr/local/lib/python3.10/dist-packages (from albumentations>=1.0.3->-r requirements.txt (line 46)) (0.19.3)\n",
            "Requirement already satisfied: qudida>=0.0.4 in /usr/local/lib/python3.10/dist-packages (from albumentations>=1.0.3->-r requirements.txt (line 46)) (0.0.4)\n",
            "Requirement already satisfied: opencv-python-headless>=4.1.1 in /usr/local/lib/python3.10/dist-packages (from albumentations>=1.0.3->-r requirements.txt (line 46)) (4.9.0.80)\n",
            "Collecting smmap<6,>=3.0.1 (from gitdb<5,>=4.0.1->gitpython->-r requirements.txt (line 5))\n",
            "  Downloading smmap-5.0.1-py3-none-any.whl (24 kB)\n",
            "Requirement already satisfied: cachetools<6.0,>=2.0.0 in /usr/local/lib/python3.10/dist-packages (from google-auth<3,>=1.6.3->tensorboard>=2.4.1->-r requirements.txt (line 22)) (5.3.3)\n",
            "Requirement already satisfied: pyasn1-modules>=0.2.1 in /usr/local/lib/python3.10/dist-packages (from google-auth<3,>=1.6.3->tensorboard>=2.4.1->-r requirements.txt (line 22)) (0.4.0)\n",
            "Requirement already satisfied: rsa<5,>=3.1.4 in /usr/local/lib/python3.10/dist-packages (from google-auth<3,>=1.6.3->tensorboard>=2.4.1->-r requirements.txt (line 22)) (4.9)\n",
            "Requirement already satisfied: requests-oauthlib>=0.7.0 in /usr/local/lib/python3.10/dist-packages (from google-auth-oauthlib<2,>=0.5->tensorboard>=2.4.1->-r requirements.txt (line 22)) (1.3.1)\n",
            "Requirement already satisfied: parso<0.9.0,>=0.8.3 in /usr/local/lib/python3.10/dist-packages (from jedi>=0.16->ipython->-r requirements.txt (line 6)) (0.8.4)\n",
            "Requirement already satisfied: ptyprocess>=0.5 in /usr/local/lib/python3.10/dist-packages (from pexpect>4.3->ipython->-r requirements.txt (line 6)) (0.7.0)\n",
            "Requirement already satisfied: wcwidth in /usr/local/lib/python3.10/dist-packages (from prompt-toolkit!=3.0.0,!=3.0.1,<3.1.0,>=2.0.0->ipython->-r requirements.txt (line 6)) (0.2.13)\n",
            "Requirement already satisfied: scikit-learn>=0.19.1 in /usr/local/lib/python3.10/dist-packages (from qudida>=0.0.4->albumentations>=1.0.3->-r requirements.txt (line 46)) (1.2.2)\n",
            "Requirement already satisfied: imageio>=2.4.1 in /usr/local/lib/python3.10/dist-packages (from scikit-image>=0.16.1->albumentations>=1.0.3->-r requirements.txt (line 46)) (2.31.6)\n",
            "Requirement already satisfied: tifffile>=2019.7.26 in /usr/local/lib/python3.10/dist-packages (from scikit-image>=0.16.1->albumentations>=1.0.3->-r requirements.txt (line 46)) (2024.2.12)\n",
            "Requirement already satisfied: PyWavelets>=1.1.1 in /usr/local/lib/python3.10/dist-packages (from scikit-image>=0.16.1->albumentations>=1.0.3->-r requirements.txt (line 46)) (1.6.0)\n",
            "Requirement already satisfied: MarkupSafe>=2.1.1 in /usr/local/lib/python3.10/dist-packages (from werkzeug>=1.0.1->tensorboard>=2.4.1->-r requirements.txt (line 22)) (2.1.5)\n",
            "Requirement already satisfied: mpmath>=0.19 in /usr/local/lib/python3.10/dist-packages (from sympy->torch>=1.7.0->-r requirements.txt (line 16)) (1.3.0)\n",
            "Requirement already satisfied: pyasn1<0.7.0,>=0.4.6 in /usr/local/lib/python3.10/dist-packages (from pyasn1-modules>=0.2.1->google-auth<3,>=1.6.3->tensorboard>=2.4.1->-r requirements.txt (line 22)) (0.6.0)\n",
            "Requirement already satisfied: oauthlib>=3.0.0 in /usr/local/lib/python3.10/dist-packages (from requests-oauthlib>=0.7.0->google-auth-oauthlib<2,>=0.5->tensorboard>=2.4.1->-r requirements.txt (line 22)) (3.2.2)\n",
            "Requirement already satisfied: joblib>=1.1.1 in /usr/local/lib/python3.10/dist-packages (from scikit-learn>=0.19.1->qudida>=0.0.4->albumentations>=1.0.3->-r requirements.txt (line 46)) (1.4.0)\n",
            "Requirement already satisfied: threadpoolctl>=2.0.0 in /usr/local/lib/python3.10/dist-packages (from scikit-learn>=0.19.1->qudida>=0.0.4->albumentations>=1.0.3->-r requirements.txt (line 46)) (3.4.0)\n",
            "Installing collected packages: smmap, nvidia-nvtx-cu12, nvidia-nvjitlink-cu12, nvidia-nccl-cu12, nvidia-curand-cu12, nvidia-cufft-cu12, nvidia-cuda-runtime-cu12, nvidia-cuda-nvrtc-cu12, nvidia-cuda-cupti-cu12, nvidia-cublas-cu12, jedi, nvidia-cusparse-cu12, nvidia-cudnn-cu12, gitdb, nvidia-cusolver-cu12, gitpython, thop\n",
            "Successfully installed gitdb-4.0.11 gitpython-3.1.43 jedi-0.19.1 nvidia-cublas-cu12-12.1.3.1 nvidia-cuda-cupti-cu12-12.1.105 nvidia-cuda-nvrtc-cu12-12.1.105 nvidia-cuda-runtime-cu12-12.1.105 nvidia-cudnn-cu12-8.9.2.26 nvidia-cufft-cu12-11.0.2.54 nvidia-curand-cu12-10.3.2.106 nvidia-cusolver-cu12-11.4.5.107 nvidia-cusparse-cu12-12.1.0.106 nvidia-nccl-cu12-2.19.3 nvidia-nvjitlink-cu12-12.4.127 nvidia-nvtx-cu12-12.1.105 smmap-5.0.1 thop-0.1.1.post2209072238\n"
          ]
        }
      ]
    },
    {
      "cell_type": "code",
      "source": [
        "#!wget -P /MyDrive/yolov9 https://github.com/WongKinYiu/yolov9/releases/download/v0.1/yolo9-e.pt\n",
        "#!wget -P /MyDrive/yolov9 https://github.com/WongKinYiu/yolov9/releases/download/v0.1/yolo9-c.pt"
      ],
      "metadata": {
        "id": "BJmi-v7_pQm2"
      },
      "execution_count": null,
      "outputs": []
    },
    {
      "cell_type": "code",
      "source": [
        "!python /content/gdrive/MyDrive/yolov9/yolov9/train_dual.py --workers 8 --batch 4 --img 640 --epochs 25 --data /content/gdrive/MyDrive/yolov9/yolov9/data.yaml --weights /content/gdrive/MyDrive/yolov9/yolov9-e.pt --device 0 --cfg /content/gdrive/MyDrive/yolov9/yolov9/models/detect/yolov9_custom.yaml --hyp /content/gdrive/MyDrive/yolov9/yolov9/data/hyps/hyp.scratch-high.yaml"
      ],
      "metadata": {
        "colab": {
          "base_uri": "https://localhost:8080/"
        },
        "id": "_hNVO9d4qFYN",
        "outputId": "6f0542b8-28c2-458c-e6c7-98f2de17c8d1"
      },
      "execution_count": null,
      "outputs": [
        {
          "output_type": "stream",
          "name": "stdout",
          "text": [
            "2024-04-19 15:33:39.392359: E external/local_xla/xla/stream_executor/cuda/cuda_dnn.cc:9261] Unable to register cuDNN factory: Attempting to register factory for plugin cuDNN when one has already been registered\n",
            "2024-04-19 15:33:39.392416: E external/local_xla/xla/stream_executor/cuda/cuda_fft.cc:607] Unable to register cuFFT factory: Attempting to register factory for plugin cuFFT when one has already been registered\n",
            "2024-04-19 15:33:39.393816: E external/local_xla/xla/stream_executor/cuda/cuda_blas.cc:1515] Unable to register cuBLAS factory: Attempting to register factory for plugin cuBLAS when one has already been registered\n",
            "2024-04-19 15:33:40.524522: W tensorflow/compiler/tf2tensorrt/utils/py_utils.cc:38] TF-TRT Warning: Could not find TensorRT\n",
            "\u001b[34m\u001b[1mtrain_dual: \u001b[0mweights=/content/gdrive/MyDrive/yolov9/yolov9-e.pt, cfg=/content/gdrive/MyDrive/yolov9/yolov9/models/detect/yolov9_custom.yaml, data=/content/gdrive/MyDrive/yolov9/yolov9/data.yaml, hyp=/content/gdrive/MyDrive/yolov9/yolov9/data/hyps/hyp.scratch-high.yaml, epochs=25, batch_size=4, imgsz=640, rect=False, resume=False, nosave=False, noval=False, noautoanchor=False, noplots=False, evolve=None, bucket=, cache=None, image_weights=False, device=0, multi_scale=False, single_cls=False, optimizer=SGD, sync_bn=False, workers=8, project=runs/train, name=exp, exist_ok=False, quad=False, cos_lr=False, flat_cos_lr=False, fixed_lr=False, label_smoothing=0.0, patience=100, freeze=[0], save_period=-1, seed=0, local_rank=-1, min_items=0, close_mosaic=0, entity=None, upload_dataset=False, bbox_interval=-1, artifact_alias=latest\n",
            "YOLO 🚀 v0.1-88-g03f920b Python-3.10.12 torch-2.2.1+cu121 CUDA:0 (Tesla T4, 15102MiB)\n",
            "\n",
            "\u001b[34m\u001b[1mhyperparameters: \u001b[0mlr0=0.01, lrf=0.01, momentum=0.937, weight_decay=0.0005, warmup_epochs=3.0, warmup_momentum=0.8, warmup_bias_lr=0.1, box=7.5, cls=0.5, cls_pw=1.0, obj=0.7, obj_pw=1.0, dfl=1.5, iou_t=0.2, anchor_t=5.0, fl_gamma=0.0, hsv_h=0.015, hsv_s=0.7, hsv_v=0.4, degrees=0.0, translate=0.1, scale=0.9, shear=0.0, perspective=0.0, flipud=0.0, fliplr=0.5, mosaic=1.0, mixup=0.15, copy_paste=0.3\n",
            "\u001b[34m\u001b[1mClearML: \u001b[0mrun 'pip install clearml' to automatically track, visualize and remotely train YOLO 🚀 in ClearML\n",
            "\u001b[34m\u001b[1mComet: \u001b[0mrun 'pip install comet_ml' to automatically track and visualize YOLO 🚀 runs in Comet\n",
            "\u001b[34m\u001b[1mTensorBoard: \u001b[0mStart with 'tensorboard --logdir runs/train', view at http://localhost:6006/\n",
            "Downloading https://ultralytics.com/assets/Arial.ttf to /root/.config/Ultralytics/Arial.ttf...\n",
            "100% 755k/755k [00:00<00:00, 37.6MB/s]\n",
            "\n",
            "                 from  n    params  module                                  arguments                     \n",
            "\u001b[34m\u001b[1mactivation:\u001b[0m nn.ReLU()\n",
            "  0                -1  1         0  models.common.Silence                   []                            \n",
            "  1                -1  1      1856  models.common.Conv                      [3, 64, 3, 2]                 \n",
            "  2                -1  1     73984  models.common.Conv                      [64, 128, 3, 2]               \n",
            "  3                -1  1    212864  models.common.RepNCSPELAN4              [128, 256, 128, 64, 1]        \n",
            "  4                -1  1    590336  models.common.Conv                      [256, 256, 3, 2]              \n",
            "  5                -1  1    847616  models.common.RepNCSPELAN4              [256, 512, 256, 128, 1]       \n",
            "  6                -1  1   2360320  models.common.Conv                      [512, 512, 3, 2]              \n",
            "  7                -1  1   2857472  models.common.RepNCSPELAN4              [512, 512, 512, 256, 1]       \n",
            "  8                -1  1   2360320  models.common.Conv                      [512, 512, 3, 2]              \n",
            "  9                -1  1   2857472  models.common.RepNCSPELAN4              [512, 512, 512, 256, 1]       \n",
            " 10                -1  1    656896  models.common.SPPELAN                   [512, 512, 256]               \n",
            " 11                -1  1         0  torch.nn.modules.upsampling.Upsample    [None, 2, 'nearest']          \n",
            " 12           [-1, 7]  1         0  models.common.Concat                    [1]                           \n",
            " 13                -1  1   3119616  models.common.RepNCSPELAN4              [1024, 512, 512, 256, 1]      \n",
            " 14                -1  1         0  torch.nn.modules.upsampling.Upsample    [None, 2, 'nearest']          \n",
            " 15           [-1, 5]  1         0  models.common.Concat                    [1]                           \n",
            " 16                -1  1    912640  models.common.RepNCSPELAN4              [1024, 256, 256, 128, 1]      \n",
            " 17                -1  1    590336  models.common.Conv                      [256, 256, 3, 2]              \n",
            " 18          [-1, 13]  1         0  models.common.Concat                    [1]                           \n",
            " 19                -1  1   2988544  models.common.RepNCSPELAN4              [768, 512, 512, 256, 1]       \n",
            " 20                -1  1   2360320  models.common.Conv                      [512, 512, 3, 2]              \n",
            " 21          [-1, 10]  1         0  models.common.Concat                    [1]                           \n",
            " 22                -1  1   3119616  models.common.RepNCSPELAN4              [1024, 512, 512, 256, 1]      \n",
            " 23                 5  1    131328  models.common.CBLinear                  [512, [256]]                  \n",
            " 24                 7  1    393984  models.common.CBLinear                  [512, [256, 512]]             \n",
            " 25                 9  1    656640  models.common.CBLinear                  [512, [256, 512, 512]]        \n",
            " 26                 0  1      1856  models.common.Conv                      [3, 64, 3, 2]                 \n",
            " 27                -1  1     73984  models.common.Conv                      [64, 128, 3, 2]               \n",
            " 28                -1  1    212864  models.common.RepNCSPELAN4              [128, 256, 128, 64, 1]        \n",
            " 29                -1  1    590336  models.common.Conv                      [256, 256, 3, 2]              \n",
            " 30  [23, 24, 25, -1]  1         0  models.common.CBFuse                    [[0, 0, 0]]                   \n",
            " 31                -1  1    847616  models.common.RepNCSPELAN4              [256, 512, 256, 128, 1]       \n",
            " 32                -1  1   2360320  models.common.Conv                      [512, 512, 3, 2]              \n",
            " 33      [24, 25, -1]  1         0  models.common.CBFuse                    [[1, 1]]                      \n",
            " 34                -1  1   2857472  models.common.RepNCSPELAN4              [512, 512, 512, 256, 1]       \n",
            " 35                -1  1   2360320  models.common.Conv                      [512, 512, 3, 2]              \n",
            " 36          [25, -1]  1         0  models.common.CBFuse                    [[2]]                         \n",
            " 37                -1  1   2857472  models.common.RepNCSPELAN4              [512, 512, 512, 256, 1]       \n",
            " 38[31, 34, 37, 16, 19, 22]  1  21558992  models.yolo.DualDDetect                 [8, [512, 512, 512, 256, 512, 512]]\n",
            "yolov9_custom summary: 930 layers, 60813392 parameters, 60813360 gradients, 266.2 GFLOPs\n",
            "\n",
            "Transferred 438/1412 items from /content/gdrive/MyDrive/yolov9/yolov9-e.pt\n",
            "\u001b[34m\u001b[1mAMP: \u001b[0mchecks passed ✅\n",
            "\u001b[34m\u001b[1moptimizer:\u001b[0m SGD(lr=0.01) with parameter groups 230 weight(decay=0.0), 247 weight(decay=0.0005), 245 bias\n",
            "\u001b[34m\u001b[1malbumentations: \u001b[0mBlur(p=0.01, blur_limit=(3, 7)), MedianBlur(p=0.01, blur_limit=(3, 7)), ToGray(p=0.01), CLAHE(p=0.01, clip_limit=(1, 4.0), tile_grid_size=(8, 8))\n",
            "/usr/lib/python3.10/multiprocessing/popen_fork.py:66: RuntimeWarning: os.fork() was called. os.fork() is incompatible with multithreaded code, and JAX is multithreaded, so this will likely lead to a deadlock.\n",
            "  self.pid = os.fork()\n",
            "\u001b[34m\u001b[1mtrain: \u001b[0mScanning /content/gdrive/MyDrive/yolov9/yolov9/Webpage_dataset/train/labels... 843 images, 10 backgrounds, 0 corrupt: 100% 853/853 [07:23<00:00,  1.92it/s]\n",
            "\u001b[34m\u001b[1mtrain: \u001b[0mWARNING ⚠️ /content/gdrive/MyDrive/yolov9/yolov9/Webpage_dataset/train/images/9to5mac_com_png_jpg.rf.2e75cc50ea75f6e323a1549c996f2a35.jpg: 1 duplicate labels removed\n",
            "\u001b[34m\u001b[1mtrain: \u001b[0mWARNING ⚠️ /content/gdrive/MyDrive/yolov9/yolov9/Webpage_dataset/train/images/aka_ms_png_jpg.rf.01fc1cd49fdcfbe2e541b7939a77b144.jpg: 1 duplicate labels removed\n",
            "\u001b[34m\u001b[1mtrain: \u001b[0mWARNING ⚠️ /content/gdrive/MyDrive/yolov9/yolov9/Webpage_dataset/train/images/artstation_com_png_jpg.rf.9ac96f6ab476f35eceab231b9d1ceb13.jpg: 1 duplicate labels removed\n",
            "\u001b[34m\u001b[1mtrain: \u001b[0mWARNING ⚠️ /content/gdrive/MyDrive/yolov9/yolov9/Webpage_dataset/train/images/bangordailynews_com_png_jpg.rf.e714117409809cab5bbb1624c307d969.jpg: 2 duplicate labels removed\n",
            "\u001b[34m\u001b[1mtrain: \u001b[0mWARNING ⚠️ /content/gdrive/MyDrive/yolov9/yolov9/Webpage_dataset/train/images/behance_net_png_jpg.rf.68b5580d141940b9e5a9479a7ed168ff.jpg: 14 duplicate labels removed\n",
            "\u001b[34m\u001b[1mtrain: \u001b[0mWARNING ⚠️ /content/gdrive/MyDrive/yolov9/yolov9/Webpage_dataset/train/images/bing_com_png_jpg.rf.4eb976abb10c881bacf6fdeeda1d3104.jpg: 24 duplicate labels removed\n",
            "\u001b[34m\u001b[1mtrain: \u001b[0mWARNING ⚠️ /content/gdrive/MyDrive/yolov9/yolov9/Webpage_dataset/train/images/bitmex_com_png_jpg.rf.20d2db7e6145429ec03308ef7fb266c4.jpg: 2 duplicate labels removed\n",
            "\u001b[34m\u001b[1mtrain: \u001b[0mWARNING ⚠️ /content/gdrive/MyDrive/yolov9/yolov9/Webpage_dataset/train/images/bits_blogs_nytimes_com_png_jpg.rf.568a3074624b70c378c10f78b90d6ddf.jpg: 3 duplicate labels removed\n",
            "\u001b[34m\u001b[1mtrain: \u001b[0mWARNING ⚠️ /content/gdrive/MyDrive/yolov9/yolov9/Webpage_dataset/train/images/blockchain_info_png_jpg.rf.73e1d58de019a692771ae6726b812b93.jpg: 2 duplicate labels removed\n",
            "\u001b[34m\u001b[1mtrain: \u001b[0mWARNING ⚠️ /content/gdrive/MyDrive/yolov9/yolov9/Webpage_dataset/train/images/boardgamegeek_com_png_jpg.rf.a87fa2b78ea1fd471c352fb561b2d910.jpg: 1 duplicate labels removed\n",
            "\u001b[34m\u001b[1mtrain: \u001b[0mWARNING ⚠️ /content/gdrive/MyDrive/yolov9/yolov9/Webpage_dataset/train/images/business_com_png_jpg.rf.ad9ea9883f30c94cdd5f7b4e50ccdc94.jpg: 1 duplicate labels removed\n",
            "\u001b[34m\u001b[1mtrain: \u001b[0mWARNING ⚠️ /content/gdrive/MyDrive/yolov9/yolov9/Webpage_dataset/train/images/calameo_com_png_jpg.rf.f9ae4ea33ce516bf378c952e58fdaf5f.jpg: 10 duplicate labels removed\n",
            "\u001b[34m\u001b[1mtrain: \u001b[0mWARNING ⚠️ /content/gdrive/MyDrive/yolov9/yolov9/Webpage_dataset/train/images/class_ruten_com_tw_png_jpg.rf.456b8fa424748fc51d65893503e87fc2.jpg: 8 duplicate labels removed\n",
            "\u001b[34m\u001b[1mtrain: \u001b[0mWARNING ⚠️ /content/gdrive/MyDrive/yolov9/yolov9/Webpage_dataset/train/images/clickondetroit_com_png_jpg.rf.2663730e5bd0722c66af51958df624e2.jpg: 1 duplicate labels removed\n",
            "\u001b[34m\u001b[1mtrain: \u001b[0mWARNING ⚠️ /content/gdrive/MyDrive/yolov9/yolov9/Webpage_dataset/train/images/cnn_com_png_jpg.rf.778ce51001d63db17926daa61802fe0f.jpg: 1 duplicate labels removed\n",
            "\u001b[34m\u001b[1mtrain: \u001b[0mWARNING ⚠️ /content/gdrive/MyDrive/yolov9/yolov9/Webpage_dataset/train/images/coindesk_com_png_jpg.rf.a4fa0b9d016e2018674784b601d144ea.jpg: 1 duplicate labels removed\n",
            "\u001b[34m\u001b[1mtrain: \u001b[0mWARNING ⚠️ /content/gdrive/MyDrive/yolov9/yolov9/Webpage_dataset/train/images/collegehumor_com_png_jpg.rf.480a7d78e4f18d7cbd12dc3b80413354.jpg: 2 duplicate labels removed\n",
            "\u001b[34m\u001b[1mtrain: \u001b[0mWARNING ⚠️ /content/gdrive/MyDrive/yolov9/yolov9/Webpage_dataset/train/images/commons_wikimedia_org_png_jpg.rf.1a07e2dd224a7502437e8422b3769563.jpg: 1 duplicate labels removed\n",
            "\u001b[34m\u001b[1mtrain: \u001b[0mWARNING ⚠️ /content/gdrive/MyDrive/yolov9/yolov9/Webpage_dataset/train/images/de_wikipedia_org_png_jpg.rf.89586f408b11ece499b98f09408f640c.jpg: 1 duplicate labels removed\n",
            "\u001b[34m\u001b[1mtrain: \u001b[0mWARNING ⚠️ /content/gdrive/MyDrive/yolov9/yolov9/Webpage_dataset/train/images/edition_cnn_com_png_jpg.rf.ba04629a5e1407ab45ceb1225c57bde1.jpg: 1 duplicate labels removed\n",
            "\u001b[34m\u001b[1mtrain: \u001b[0mWARNING ⚠️ /content/gdrive/MyDrive/yolov9/yolov9/Webpage_dataset/train/images/ello_co_png_jpg.rf.d7fb108b0ed7fb123c52d2560800d15c.jpg: 2 duplicate labels removed\n",
            "\u001b[34m\u001b[1mtrain: \u001b[0mWARNING ⚠️ /content/gdrive/MyDrive/yolov9/yolov9/Webpage_dataset/train/images/en_wikipedia_org_png_jpg.rf.b51b9d5d8ce9f1580acac45f7fb874a5.jpg: 1 duplicate labels removed\n",
            "\u001b[34m\u001b[1mtrain: \u001b[0mWARNING ⚠️ /content/gdrive/MyDrive/yolov9/yolov9/Webpage_dataset/train/images/eplus_jp_png_jpg.rf.fa779944495ae6edaef31e95c83889cb.jpg: 1 duplicate labels removed\n",
            "\u001b[34m\u001b[1mtrain: \u001b[0mWARNING ⚠️ /content/gdrive/MyDrive/yolov9/yolov9/Webpage_dataset/train/images/es_wikipedia_org_png_jpg.rf.395f203d46609092a9c8e178fa8ad3e2.jpg: 1 duplicate labels removed\n",
            "\u001b[34m\u001b[1mtrain: \u001b[0mWARNING ⚠️ /content/gdrive/MyDrive/yolov9/yolov9/Webpage_dataset/train/images/esa_int_png_jpg.rf.799133188dd673fd9568d4d3508d31a1.jpg: 1 duplicate labels removed\n",
            "\u001b[34m\u001b[1mtrain: \u001b[0mWARNING ⚠️ /content/gdrive/MyDrive/yolov9/yolov9/Webpage_dataset/train/images/explorestlouis_com_png_jpg.rf.e5aee978bd28a6e1d7bd18bbad92b9e5.jpg: 1 duplicate labels removed\n",
            "\u001b[34m\u001b[1mtrain: \u001b[0mWARNING ⚠️ /content/gdrive/MyDrive/yolov9/yolov9/Webpage_dataset/train/images/ey_com_png_jpg.rf.73ceedb9810b8b360aff1766483bce3c.jpg: 5 duplicate labels removed\n",
            "\u001b[34m\u001b[1mtrain: \u001b[0mWARNING ⚠️ /content/gdrive/MyDrive/yolov9/yolov9/Webpage_dataset/train/images/fastcompany_com_png_jpg.rf.5afb183593f5f42fb65fba8191761fa0.jpg: 1 duplicate labels removed\n",
            "\u001b[34m\u001b[1mtrain: \u001b[0mWARNING ⚠️ /content/gdrive/MyDrive/yolov9/yolov9/Webpage_dataset/train/images/finance_yahoo_com_png_jpg.rf.5336a932e6bdb63aecee524e578f460c.jpg: 1 duplicate labels removed\n",
            "\u001b[34m\u001b[1mtrain: \u001b[0mWARNING ⚠️ /content/gdrive/MyDrive/yolov9/yolov9/Webpage_dataset/train/images/fineartamerica_com_png_jpg.rf.694da4e9e5556e906987021f0b163c0d.jpg: 3 duplicate labels removed\n",
            "\u001b[34m\u001b[1mtrain: \u001b[0mWARNING ⚠️ /content/gdrive/MyDrive/yolov9/yolov9/Webpage_dataset/train/images/fr_wikipedia_org_png_jpg.rf.3ec1c712652c766e2c2fd3d6386b70b5.jpg: 1 duplicate labels removed\n",
            "\u001b[34m\u001b[1mtrain: \u001b[0mWARNING ⚠️ /content/gdrive/MyDrive/yolov9/yolov9/Webpage_dataset/train/images/g1_globo_com_png_jpg.rf.08c0acde577b7806d71ce6c3c67afc13.jpg: 1632 duplicate labels removed\n",
            "\u001b[34m\u001b[1mtrain: \u001b[0mWARNING ⚠️ /content/gdrive/MyDrive/yolov9/yolov9/Webpage_dataset/train/images/gofundme_com_png_jpg.rf.9f182c42fda07977eca82105cb648943.jpg: 1 duplicate labels removed\n",
            "\u001b[34m\u001b[1mtrain: \u001b[0mWARNING ⚠️ /content/gdrive/MyDrive/yolov9/yolov9/Webpage_dataset/train/images/gq_com_png_jpg.rf.760c7152a51434e1a537e2167ec47b38.jpg: 1 duplicate labels removed\n",
            "\u001b[34m\u001b[1mtrain: \u001b[0mWARNING ⚠️ /content/gdrive/MyDrive/yolov9/yolov9/Webpage_dataset/train/images/greenpeace_org_png_jpg.rf.c42a7ca88b64beb666704f6347162422.jpg: 1 duplicate labels removed\n",
            "\u001b[34m\u001b[1mtrain: \u001b[0mWARNING ⚠️ /content/gdrive/MyDrive/yolov9/yolov9/Webpage_dataset/train/images/guardian_co_uk_png_jpg.rf.c9417bbaca00410273594893c273587e.jpg: 3 duplicate labels removed\n",
            "\u001b[34m\u001b[1mtrain: \u001b[0mWARNING ⚠️ /content/gdrive/MyDrive/yolov9/yolov9/Webpage_dataset/train/images/hangouts_google_com_png_jpg.rf.6ce1655cc241a3407d7c8e225366bd7f.jpg: 1 duplicate labels removed\n",
            "\u001b[34m\u001b[1mtrain: \u001b[0mWARNING ⚠️ /content/gdrive/MyDrive/yolov9/yolov9/Webpage_dataset/train/images/houzz_com_png_jpg.rf.2ac438492824dc17b2c0ec776264537e.jpg: 3 duplicate labels removed\n",
            "\u001b[34m\u001b[1mtrain: \u001b[0mWARNING ⚠️ /content/gdrive/MyDrive/yolov9/yolov9/Webpage_dataset/train/images/icloud_com_png_jpg.rf.1203ab341d7c2f01c0ce437f793a47c3.jpg: 1 duplicate labels removed\n",
            "\u001b[34m\u001b[1mtrain: \u001b[0mWARNING ⚠️ /content/gdrive/MyDrive/yolov9/yolov9/Webpage_dataset/train/images/issuu_com_png_jpg.rf.1936267b059b9906cb8be4c01b9903a8.jpg: 1 duplicate labels removed\n",
            "\u001b[34m\u001b[1mtrain: \u001b[0mWARNING ⚠️ /content/gdrive/MyDrive/yolov9/yolov9/Webpage_dataset/train/images/jsfiddle_net_png_jpg.rf.0dd04a9c881e4dc784b22d293f542f28.jpg: 1 duplicate labels removed\n",
            "\u001b[34m\u001b[1mtrain: \u001b[0mWARNING ⚠️ /content/gdrive/MyDrive/yolov9/yolov9/Webpage_dataset/train/images/justgiving_com_png_jpg.rf.6aeb68e6209b1a65032bd44ca04097ba.jpg: 1 duplicate labels removed\n",
            "\u001b[34m\u001b[1mtrain: \u001b[0mWARNING ⚠️ /content/gdrive/MyDrive/yolov9/yolov9/Webpage_dataset/train/images/madmimi_com_png_jpg.rf.78cca2c4981417dd619103b65944fe4e.jpg: 1 duplicate labels removed\n",
            "\u001b[34m\u001b[1mtrain: \u001b[0mWARNING ⚠️ /content/gdrive/MyDrive/yolov9/yolov9/Webpage_dataset/train/images/mercadopago_com_png_jpg.rf.2436ac49da946a9df3153b12e164bc92.jpg: 1 duplicate labels removed\n",
            "\u001b[34m\u001b[1mtrain: \u001b[0mWARNING ⚠️ /content/gdrive/MyDrive/yolov9/yolov9/Webpage_dataset/train/images/meta_wikimedia_org_png_jpg.rf.1ab9880411b9429c990696c88ab060c1.jpg: 1 duplicate labels removed\n",
            "\u001b[34m\u001b[1mtrain: \u001b[0mWARNING ⚠️ /content/gdrive/MyDrive/yolov9/yolov9/Webpage_dataset/train/images/mix_com_png_jpg.rf.30b17da04d3ac65605a4ddd8425202a1.jpg: 4 duplicate labels removed\n",
            "\u001b[34m\u001b[1mtrain: \u001b[0mWARNING ⚠️ /content/gdrive/MyDrive/yolov9/yolov9/Webpage_dataset/train/images/nbc_com_png_jpg.rf.c0cc66db73affad1de5b8f27175f4dcb.jpg: 5 duplicate labels removed\n",
            "\u001b[34m\u001b[1mtrain: \u001b[0mWARNING ⚠️ /content/gdrive/MyDrive/yolov9/yolov9/Webpage_dataset/train/images/nbcnews_com_png_jpg.rf.d00feb66f0641b815aaf372ac5684ed0.jpg: 3 duplicate labels removed\n",
            "\u001b[34m\u001b[1mtrain: \u001b[0mWARNING ⚠️ /content/gdrive/MyDrive/yolov9/yolov9/Webpage_dataset/train/images/ncbi_nlm_nih_gov_png_jpg.rf.c0bf73be4798ae79b4d9dc969a816645.jpg: 5 duplicate labels removed\n",
            "\u001b[34m\u001b[1mtrain: \u001b[0mWARNING ⚠️ /content/gdrive/MyDrive/yolov9/yolov9/Webpage_dataset/train/images/netflix_com_png_jpg.rf.1093773f74e7a0edd71737e707ccb12b.jpg: 1 duplicate labels removed\n",
            "\u001b[34m\u001b[1mtrain: \u001b[0mWARNING ⚠️ /content/gdrive/MyDrive/yolov9/yolov9/Webpage_dataset/train/images/news_nationalgeographic_com_png_jpg.rf.0206b486fd2ca8508e6597bc86d02731.jpg: 1 duplicate labels removed\n",
            "\u001b[34m\u001b[1mtrain: \u001b[0mWARNING ⚠️ /content/gdrive/MyDrive/yolov9/yolov9/Webpage_dataset/train/images/news_yahoo_com_png_jpg.rf.5a3fdeae4576936f3b0dc2a7c5794a1a.jpg: 2 duplicate labels removed\n",
            "\u001b[34m\u001b[1mtrain: \u001b[0mWARNING ⚠️ /content/gdrive/MyDrive/yolov9/yolov9/Webpage_dataset/train/images/nicovideo_jp_png_jpg.rf.7ecf5fc94b95f6c27e44593cefa05b1a.jpg: 1 duplicate labels removed\n",
            "\u001b[34m\u001b[1mtrain: \u001b[0mWARNING ⚠️ /content/gdrive/MyDrive/yolov9/yolov9/Webpage_dataset/train/images/nofilmschool_com_png_jpg.rf.557e46cd974e3cbaed50451c7528a358.jpg: 1 duplicate labels removed\n",
            "\u001b[34m\u001b[1mtrain: \u001b[0mWARNING ⚠️ /content/gdrive/MyDrive/yolov9/yolov9/Webpage_dataset/train/images/nytimes_com_png_jpg.rf.844a057cf6fc1a7255ab11e7e053b46e.jpg: 3 duplicate labels removed\n",
            "\u001b[34m\u001b[1mtrain: \u001b[0mWARNING ⚠️ /content/gdrive/MyDrive/yolov9/yolov9/Webpage_dataset/train/images/openoffice_org_png_jpg.rf.cd35e15c20b8b095e17d5c0c613924a1.jpg: 1 duplicate labels removed\n",
            "\u001b[34m\u001b[1mtrain: \u001b[0mWARNING ⚠️ /content/gdrive/MyDrive/yolov9/yolov9/Webpage_dataset/train/images/paypal_com_png_jpg.rf.cbab0f44bd36a1a0e845a17348f52644.jpg: 1 duplicate labels removed\n",
            "\u001b[34m\u001b[1mtrain: \u001b[0mWARNING ⚠️ /content/gdrive/MyDrive/yolov9/yolov9/Webpage_dataset/train/images/pitchfork_com_png_jpg.rf.98e9d48fae115f15a3223d6c24957d53.jpg: 1 duplicate labels removed\n",
            "\u001b[34m\u001b[1mtrain: \u001b[0mWARNING ⚠️ /content/gdrive/MyDrive/yolov9/yolov9/Webpage_dataset/train/images/promods_net_png_jpg.rf.fe60a5b9386375404f9ff18512ad6077.jpg: 3 duplicate labels removed\n",
            "\u001b[34m\u001b[1mtrain: \u001b[0mWARNING ⚠️ /content/gdrive/MyDrive/yolov9/yolov9/Webpage_dataset/train/images/pt_wikipedia_org_png_jpg.rf.4c3f19c08c2e851d87db0efcb2073b3d.jpg: 1 duplicate labels removed\n",
            "\u001b[34m\u001b[1mtrain: \u001b[0mWARNING ⚠️ /content/gdrive/MyDrive/yolov9/yolov9/Webpage_dataset/train/images/rt_com_png_jpg.rf.52aad9d84c526370eb2ebebd403e888d.jpg: 4 duplicate labels removed\n",
            "\u001b[34m\u001b[1mtrain: \u001b[0mWARNING ⚠️ /content/gdrive/MyDrive/yolov9/yolov9/Webpage_dataset/train/images/ru_wikipedia_org_png_jpg.rf.c9591cd14907c9e5bb7ced351732b063.jpg: 1 duplicate labels removed\n",
            "\u001b[34m\u001b[1mtrain: \u001b[0mWARNING ⚠️ /content/gdrive/MyDrive/yolov9/yolov9/Webpage_dataset/train/images/s0_wp_com_png_jpg.rf.ecdcac90a65c6f7ba9083e4f17012112.jpg: 20 duplicate labels removed\n",
            "\u001b[34m\u001b[1mtrain: \u001b[0mWARNING ⚠️ /content/gdrive/MyDrive/yolov9/yolov9/Webpage_dataset/train/images/scientificamerican_com_png_jpg.rf.eb49a4ffb3be2d49222099da46c16f28.jpg: 1 duplicate labels removed\n",
            "\u001b[34m\u001b[1mtrain: \u001b[0mWARNING ⚠️ /content/gdrive/MyDrive/yolov9/yolov9/Webpage_dataset/train/images/scmp_com_png_jpg.rf.8e088b90f57b50a2961933e1d798c38d.jpg: 2 duplicate labels removed\n",
            "\u001b[34m\u001b[1mtrain: \u001b[0mWARNING ⚠️ /content/gdrive/MyDrive/yolov9/yolov9/Webpage_dataset/train/images/secure_php_net_png_jpg.rf.5fabb53c741dd07be1b43cdb59db083a.jpg: 1 duplicate labels removed\n",
            "\u001b[34m\u001b[1mtrain: \u001b[0mWARNING ⚠️ /content/gdrive/MyDrive/yolov9/yolov9/Webpage_dataset/train/images/simple_wikipedia_org_png_jpg.rf.b73e3cfcda62ffdd2c40fb53fd020570.jpg: 1 duplicate labels removed\n",
            "\u001b[34m\u001b[1mtrain: \u001b[0mWARNING ⚠️ /content/gdrive/MyDrive/yolov9/yolov9/Webpage_dataset/train/images/surveymonkey_com_png_jpg.rf.abfeb6bd3068d103c041a22a85375e89.jpg: 1 duplicate labels removed\n",
            "\u001b[34m\u001b[1mtrain: \u001b[0mWARNING ⚠️ /content/gdrive/MyDrive/yolov9/yolov9/Webpage_dataset/train/images/theculturetrip_com_png_jpg.rf.5035c3a475ca53e4ef2a14449553b591.jpg: 5 duplicate labels removed\n",
            "\u001b[34m\u001b[1mtrain: \u001b[0mWARNING ⚠️ /content/gdrive/MyDrive/yolov9/yolov9/Webpage_dataset/train/images/theguardian_com_png_jpg.rf.c1213587a7a4befd68fd19fb994dad6b.jpg: 3 duplicate labels removed\n",
            "\u001b[34m\u001b[1mtrain: \u001b[0mWARNING ⚠️ /content/gdrive/MyDrive/yolov9/yolov9/Webpage_dataset/train/images/theknot_com_png_jpg.rf.00629b1f238eaefe00855a2e2292276b.jpg: 1 duplicate labels removed\n",
            "\u001b[34m\u001b[1mtrain: \u001b[0mWARNING ⚠️ /content/gdrive/MyDrive/yolov9/yolov9/Webpage_dataset/train/images/thenextweb_com_png_jpg.rf.5e02489a08eab15b0d48c0dd74288155.jpg: 4 duplicate labels removed\n",
            "\u001b[34m\u001b[1mtrain: \u001b[0mWARNING ⚠️ /content/gdrive/MyDrive/yolov9/yolov9/Webpage_dataset/train/images/today_com_png_jpg.rf.aa41953f0f8b98596d1ea37a0f80150d.jpg: 4 duplicate labels removed\n",
            "\u001b[34m\u001b[1mtrain: \u001b[0mWARNING ⚠️ /content/gdrive/MyDrive/yolov9/yolov9/Webpage_dataset/train/images/travel_state_gov_png_jpg.rf.a62f5a50910c41499f864d699d82e80e.jpg: 6 duplicate labels removed\n",
            "\u001b[34m\u001b[1mtrain: \u001b[0mWARNING ⚠️ /content/gdrive/MyDrive/yolov9/yolov9/Webpage_dataset/train/images/unesco_org_png_jpg.rf.3a56ba49a24eaf1dbeb7d1b544fcf49f.jpg: 3 duplicate labels removed\n",
            "\u001b[34m\u001b[1mtrain: \u001b[0mWARNING ⚠️ /content/gdrive/MyDrive/yolov9/yolov9/Webpage_dataset/train/images/upload_wikimedia_org_png_jpg.rf.8f9ce369be83bd27fc1ff2ebfc852238.jpg: 1 duplicate labels removed\n",
            "\u001b[34m\u001b[1mtrain: \u001b[0mWARNING ⚠️ /content/gdrive/MyDrive/yolov9/yolov9/Webpage_dataset/train/images/vedomosti_ru_png_jpg.rf.5e368512ea71e286731184139b255196.jpg: 1 duplicate labels removed\n",
            "\u001b[34m\u001b[1mtrain: \u001b[0mWARNING ⚠️ /content/gdrive/MyDrive/yolov9/yolov9/Webpage_dataset/train/images/vice_com_png_jpg.rf.bba8a6a62b2002e2afc5755e8105879c.jpg: 1 duplicate labels removed\n",
            "\u001b[34m\u001b[1mtrain: \u001b[0mWARNING ⚠️ /content/gdrive/MyDrive/yolov9/yolov9/Webpage_dataset/train/images/wp_me_png_jpg.rf.d60136c72fcfb19cb46e33f5791d3e95.jpg: 20 duplicate labels removed\n",
            "\u001b[34m\u001b[1mtrain: \u001b[0mWARNING ⚠️ /content/gdrive/MyDrive/yolov9/yolov9/Webpage_dataset/train/images/www3_nhk_or_jp_png_jpg.rf.cba4b4b6e1c095e193444363d7a9399c.jpg: 1 duplicate labels removed\n",
            "\u001b[34m\u001b[1mtrain: \u001b[0mWARNING ⚠️ /content/gdrive/MyDrive/yolov9/yolov9/Webpage_dataset/train/images/yelp_com_png_jpg.rf.5aa2f0fa943e3e49b982f9e9fcf734cc.jpg: 1 duplicate labels removed\n",
            "\u001b[34m\u001b[1mtrain: \u001b[0mWARNING ⚠️ /content/gdrive/MyDrive/yolov9/yolov9/Webpage_dataset/train/images/yr_no_png_jpg.rf.e1fedd52e4dd339016e83966fc5138e1.jpg: 3 duplicate labels removed\n",
            "\u001b[34m\u001b[1mtrain: \u001b[0mWARNING ⚠️ /content/gdrive/MyDrive/yolov9/yolov9/Webpage_dataset/train/images/zen_yandex_ru_png_jpg.rf.3fc7ca33fd8a0c6cba4ec01b97ebeaeb.jpg: 6 duplicate labels removed\n",
            "\u001b[34m\u001b[1mtrain: \u001b[0mNew cache created: /content/gdrive/MyDrive/yolov9/yolov9/Webpage_dataset/train/labels.cache\n",
            "\u001b[34m\u001b[1mval: \u001b[0mScanning /content/gdrive/MyDrive/yolov9/yolov9/Webpage_dataset/valid/labels... 241 images, 0 backgrounds, 0 corrupt: 100% 241/241 [01:59<00:00,  2.01it/s]\n",
            "\u001b[34m\u001b[1mval: \u001b[0mWARNING ⚠️ /content/gdrive/MyDrive/yolov9/yolov9/Webpage_dataset/valid/images/bandsintown_com_png_jpg.rf.1415737e54b0d59c4b98751df1035f2c.jpg: 4 duplicate labels removed\n",
            "\u001b[34m\u001b[1mval: \u001b[0mWARNING ⚠️ /content/gdrive/MyDrive/yolov9/yolov9/Webpage_dataset/valid/images/deondernemer_nl_png_jpg.rf.1134a6aa97156e64f4a52f65cfabcfac.jpg: 1 duplicate labels removed\n",
            "\u001b[34m\u001b[1mval: \u001b[0mWARNING ⚠️ /content/gdrive/MyDrive/yolov9/yolov9/Webpage_dataset/valid/images/flickr_com_png_jpg.rf.6912fc709b2b46db9ed5d9de18a10ba2.jpg: 2 duplicate labels removed\n",
            "\u001b[34m\u001b[1mval: \u001b[0mWARNING ⚠️ /content/gdrive/MyDrive/yolov9/yolov9/Webpage_dataset/valid/images/foxnews_com_png_jpg.rf.31d35065d6035086368568401c9e37ea.jpg: 2 duplicate labels removed\n",
            "\u001b[34m\u001b[1mval: \u001b[0mWARNING ⚠️ /content/gdrive/MyDrive/yolov9/yolov9/Webpage_dataset/valid/images/g2a_com_png_jpg.rf.73fcb8ac2410707ff4de6b6866c1d4b9.jpg: 2 duplicate labels removed\n",
            "\u001b[34m\u001b[1mval: \u001b[0mWARNING ⚠️ /content/gdrive/MyDrive/yolov9/yolov9/Webpage_dataset/valid/images/homedepot_com_png_jpg.rf.81f67fce18ddad84dc663b68d98f3ccd.jpg: 1 duplicate labels removed\n",
            "\u001b[34m\u001b[1mval: \u001b[0mWARNING ⚠️ /content/gdrive/MyDrive/yolov9/yolov9/Webpage_dataset/valid/images/imdb_com_png_jpg.rf.c0c9d735854aad1a8c4ad211a9eb921d.jpg: 4 duplicate labels removed\n",
            "\u001b[34m\u001b[1mval: \u001b[0mWARNING ⚠️ /content/gdrive/MyDrive/yolov9/yolov9/Webpage_dataset/valid/images/ja_wikipedia_org_png_jpg.rf.8a48abce0033b503cd5694a72e7c1bdf.jpg: 1 duplicate labels removed\n",
            "\u001b[34m\u001b[1mval: \u001b[0mWARNING ⚠️ /content/gdrive/MyDrive/yolov9/yolov9/Webpage_dataset/valid/images/kritzelpixel_de_png_jpg.rf.142084c1a3fae2496a2b1ae05ccb16b7.jpg: 2 duplicate labels removed\n",
            "\u001b[34m\u001b[1mval: \u001b[0mWARNING ⚠️ /content/gdrive/MyDrive/yolov9/yolov9/Webpage_dataset/valid/images/lucene_apache_org_png_jpg.rf.5b9759186888896373b5843fddff46e3.jpg: 2 duplicate labels removed\n",
            "\u001b[34m\u001b[1mval: \u001b[0mWARNING ⚠️ /content/gdrive/MyDrive/yolov9/yolov9/Webpage_dataset/valid/images/news_bbc_co_uk_png_jpg.rf.9d2ac21f69b5a144f957159092fa2d6d.jpg: 1 duplicate labels removed\n",
            "\u001b[34m\u001b[1mval: \u001b[0mWARNING ⚠️ /content/gdrive/MyDrive/yolov9/yolov9/Webpage_dataset/valid/images/periscope_tv_png_jpg.rf.72ba30c0a599a605268beb035f9d5d89.jpg: 4 duplicate labels removed\n",
            "\u001b[34m\u001b[1mval: \u001b[0mWARNING ⚠️ /content/gdrive/MyDrive/yolov9/yolov9/Webpage_dataset/valid/images/rp-online_de_png_jpg.rf.3a32e830af3fc0ae8816a8063fd13872.jpg: 1 duplicate labels removed\n",
            "\u001b[34m\u001b[1mval: \u001b[0mWARNING ⚠️ /content/gdrive/MyDrive/yolov9/yolov9/Webpage_dataset/valid/images/shop_trezor_io_png_jpg.rf.21dab5ed5345acf7514fc58c1179b9b9.jpg: 2 duplicate labels removed\n",
            "\u001b[34m\u001b[1mval: \u001b[0mWARNING ⚠️ /content/gdrive/MyDrive/yolov9/yolov9/Webpage_dataset/valid/images/sublimetext_com_png_jpg.rf.982e1131236fb58a2023face56d91a43.jpg: 1 duplicate labels removed\n",
            "\u001b[34m\u001b[1mval: \u001b[0mWARNING ⚠️ /content/gdrive/MyDrive/yolov9/yolov9/Webpage_dataset/valid/images/unsplash_com_png_jpg.rf.42c0a14b9b28524e932630752397a904.jpg: 1 duplicate labels removed\n",
            "\u001b[34m\u001b[1mval: \u001b[0mWARNING ⚠️ /content/gdrive/MyDrive/yolov9/yolov9/Webpage_dataset/valid/images/waze_com_png_jpg.rf.8de5baf92d92fdbf3831d2985f2983e8.jpg: 1 duplicate labels removed\n",
            "\u001b[34m\u001b[1mval: \u001b[0mWARNING ⚠️ /content/gdrive/MyDrive/yolov9/yolov9/Webpage_dataset/valid/images/yummly_com_png_jpg.rf.908ec47643c7b3958f8395cb7fae6ac6.jpg: 1 duplicate labels removed\n",
            "\u001b[34m\u001b[1mval: \u001b[0mNew cache created: /content/gdrive/MyDrive/yolov9/yolov9/Webpage_dataset/valid/labels.cache\n",
            "Plotting labels to runs/train/exp2/labels.jpg... \n",
            "Image sizes 640 train, 640 val\n",
            "Using 2 dataloader workers\n",
            "Logging results to \u001b[1mruns/train/exp2\u001b[0m\n",
            "Starting training for 25 epochs...\n",
            "\n",
            "      Epoch    GPU_mem   box_loss   cls_loss   dfl_loss  Instances       Size\n",
            "       0/24      4.22G      5.991      5.772      5.312        116        640:   0% 0/214 [00:03<?, ?it/s]WARNING ⚠️ TensorBoard graph visualization failure Only tensors, lists, tuples of tensors, or dictionary of tensors can be output from traced functions\n",
            "       0/24      8.46G       5.79      5.795      5.341        185        640: 100% 214/214 [01:59<00:00,  1.80it/s]\n",
            "                 Class     Images  Instances          P          R      mAP50   mAP50-95: 100% 31/31 [00:11<00:00,  2.81it/s]\n",
            "                   all        241      10364     0.0027     0.0561    0.00173   0.000555\n",
            "\n",
            "      Epoch    GPU_mem   box_loss   cls_loss   dfl_loss  Instances       Size\n",
            "       1/24      9.58G      5.692      5.764      5.336         82        640: 100% 214/214 [01:48<00:00,  1.97it/s]\n",
            "                 Class     Images  Instances          P          R      mAP50   mAP50-95: 100% 31/31 [00:10<00:00,  2.89it/s]\n",
            "                   all        241      10364    0.00205     0.0379    0.00119   0.000393\n",
            "\n",
            "      Epoch    GPU_mem   box_loss   cls_loss   dfl_loss  Instances       Size\n",
            "       2/24      12.5G       5.69      5.765      5.332         21        640: 100% 214/214 [01:44<00:00,  2.06it/s]\n",
            "                 Class     Images  Instances          P          R      mAP50   mAP50-95: 100% 31/31 [00:20<00:00,  1.50it/s]\n",
            "                   all        241      10364    0.00293    0.00791   0.000755   0.000205\n",
            "\n",
            "      Epoch    GPU_mem   box_loss   cls_loss   dfl_loss  Instances       Size\n",
            "       3/24      12.5G      5.769      5.646      5.302         60        640: 100% 214/214 [01:46<00:00,  2.02it/s]\n",
            "                 Class     Images  Instances          P          R      mAP50   mAP50-95: 100% 31/31 [00:18<00:00,  1.68it/s]\n",
            "                   all        241      10364    0.00213     0.0166   0.000965   0.000338\n",
            "\n",
            "      Epoch    GPU_mem   box_loss   cls_loss   dfl_loss  Instances       Size\n",
            "       4/24      12.5G      5.748      5.258      5.218         49        640: 100% 214/214 [01:43<00:00,  2.06it/s]\n",
            "                 Class     Images  Instances          P          R      mAP50   mAP50-95: 100% 31/31 [00:18<00:00,  1.69it/s]\n",
            "                   all        241      10364    0.00233      0.024     0.0013   0.000363\n",
            "\n",
            "      Epoch    GPU_mem   box_loss   cls_loss   dfl_loss  Instances       Size\n",
            "       5/24      12.5G      5.529      4.755      5.017         15        640: 100% 214/214 [01:45<00:00,  2.03it/s]\n",
            "                 Class     Images  Instances          P          R      mAP50   mAP50-95: 100% 31/31 [00:29<00:00,  1.04it/s]\n",
            "                   all        241      10364    0.00353     0.0207    0.00179   0.000519\n",
            "\n",
            "      Epoch    GPU_mem   box_loss   cls_loss   dfl_loss  Instances       Size\n",
            "       6/24      12.5G      5.081      4.313      4.602        159        640: 100% 214/214 [01:45<00:00,  2.03it/s]\n",
            "                 Class     Images  Instances          P          R      mAP50   mAP50-95: 100% 31/31 [00:20<00:00,  1.50it/s]\n",
            "                   all        241      10364     0.0117     0.0764    0.00735    0.00193\n",
            "\n",
            "      Epoch    GPU_mem   box_loss   cls_loss   dfl_loss  Instances       Size\n",
            "       7/24      12.5G      4.652      4.053      4.155         49        640: 100% 214/214 [01:46<00:00,  2.01it/s]\n",
            "                 Class     Images  Instances          P          R      mAP50   mAP50-95: 100% 31/31 [00:28<00:00,  1.09it/s]\n",
            "                   all        241      10364     0.0115     0.0682    0.00704     0.0021\n",
            "\n",
            "      Epoch    GPU_mem   box_loss   cls_loss   dfl_loss  Instances       Size\n",
            "       8/24      12.5G      4.273      3.916      3.865         50        640: 100% 214/214 [01:45<00:00,  2.02it/s]\n",
            "                 Class     Images  Instances          P          R      mAP50   mAP50-95: 100% 31/31 [00:20<00:00,  1.48it/s]\n",
            "                   all        241      10364      0.157      0.163     0.0262    0.00823\n",
            "\n",
            "      Epoch    GPU_mem   box_loss   cls_loss   dfl_loss  Instances       Size\n",
            "       9/24      12.5G      3.971        3.8      3.615         70        640: 100% 214/214 [01:46<00:00,  2.02it/s]\n",
            "                 Class     Images  Instances          P          R      mAP50   mAP50-95: 100% 31/31 [00:14<00:00,  2.13it/s]\n",
            "                   all        241      10364     0.0649      0.147     0.0414     0.0145\n",
            "\n",
            "      Epoch    GPU_mem   box_loss   cls_loss   dfl_loss  Instances       Size\n",
            "      10/24      12.5G      3.663      3.624      3.373         66        640: 100% 214/214 [01:46<00:00,  2.02it/s]\n",
            "                 Class     Images  Instances          P          R      mAP50   mAP50-95: 100% 31/31 [00:14<00:00,  2.08it/s]\n",
            "                   all        241      10364        0.2      0.145     0.0505     0.0199\n",
            "\n",
            "      Epoch    GPU_mem   box_loss   cls_loss   dfl_loss  Instances       Size\n",
            "      11/24      12.5G      3.461      3.457      3.177        141        640: 100% 214/214 [01:45<00:00,  2.03it/s]\n",
            "                 Class     Images  Instances          P          R      mAP50   mAP50-95: 100% 31/31 [00:14<00:00,  2.21it/s]\n",
            "                   all        241      10364      0.326      0.154     0.0629     0.0257\n",
            "\n",
            "      Epoch    GPU_mem   box_loss   cls_loss   dfl_loss  Instances       Size\n",
            "      12/24      12.5G      3.314      3.386      3.033         19        640: 100% 214/214 [01:45<00:00,  2.02it/s]\n",
            "                 Class     Images  Instances          P          R      mAP50   mAP50-95: 100% 31/31 [00:13<00:00,  2.25it/s]\n",
            "                   all        241      10364      0.327      0.132     0.0568     0.0232\n",
            "\n",
            "      Epoch    GPU_mem   box_loss   cls_loss   dfl_loss  Instances       Size\n",
            "      13/24      12.5G      3.235       3.33       2.94        105        640: 100% 214/214 [01:44<00:00,  2.06it/s]\n",
            "                 Class     Images  Instances          P          R      mAP50   mAP50-95: 100% 31/31 [00:10<00:00,  2.86it/s]\n",
            "                   all        241      10364      0.303      0.167     0.0842     0.0358\n",
            "\n",
            "      Epoch    GPU_mem   box_loss   cls_loss   dfl_loss  Instances       Size\n",
            "      14/24      12.5G      3.158      3.236      2.829        182        640: 100% 214/214 [01:47<00:00,  1.99it/s]\n",
            "                 Class     Images  Instances          P          R      mAP50   mAP50-95: 100% 31/31 [00:25<00:00,  1.21it/s]\n",
            "                   all        241      10364      0.224     0.0782     0.0488     0.0201\n",
            "\n",
            "      Epoch    GPU_mem   box_loss   cls_loss   dfl_loss  Instances       Size\n",
            "      15/24      12.5G      3.073      3.232      2.791         28        640: 100% 214/214 [01:42<00:00,  2.08it/s]\n",
            "                 Class     Images  Instances          P          R      mAP50   mAP50-95: 100% 31/31 [00:11<00:00,  2.63it/s]\n",
            "                   all        241      10364      0.308      0.157      0.101     0.0464\n",
            "\n",
            "      Epoch    GPU_mem   box_loss   cls_loss   dfl_loss  Instances       Size\n",
            "      16/24      12.5G      2.979      3.145      2.723         36        640: 100% 214/214 [01:45<00:00,  2.03it/s]\n",
            "                 Class     Images  Instances          P          R      mAP50   mAP50-95: 100% 31/31 [00:11<00:00,  2.73it/s]\n",
            "                   all        241      10364      0.278      0.187       0.11     0.0519\n",
            "\n",
            "      Epoch    GPU_mem   box_loss   cls_loss   dfl_loss  Instances       Size\n",
            "      17/24      14.2G      2.893      3.089      2.661         66        640: 100% 214/214 [01:44<00:00,  2.05it/s]\n",
            "                 Class     Images  Instances          P          R      mAP50   mAP50-95: 100% 31/31 [00:20<00:00,  1.54it/s]\n",
            "                   all        241      10364      0.265      0.146     0.0889     0.0416\n",
            "\n",
            "      Epoch    GPU_mem   box_loss   cls_loss   dfl_loss  Instances       Size\n",
            "      18/24      14.2G      2.852       3.08      2.623        100        640: 100% 214/214 [01:43<00:00,  2.07it/s]\n",
            "                 Class     Images  Instances          P          R      mAP50   mAP50-95: 100% 31/31 [00:12<00:00,  2.54it/s]\n",
            "                   all        241      10364       0.25      0.142     0.0901     0.0446\n",
            "\n",
            "      Epoch    GPU_mem   box_loss   cls_loss   dfl_loss  Instances       Size\n",
            "      19/24      14.2G      2.773      3.019      2.589          5        640: 100% 214/214 [01:43<00:00,  2.08it/s]\n",
            "                 Class     Images  Instances          P          R      mAP50   mAP50-95: 100% 31/31 [00:11<00:00,  2.78it/s]\n",
            "                   all        241      10364      0.187      0.215      0.143     0.0743\n",
            "\n",
            "      Epoch    GPU_mem   box_loss   cls_loss   dfl_loss  Instances       Size\n",
            "      20/24      14.2G      2.743      2.953      2.503         21        640: 100% 214/214 [01:44<00:00,  2.04it/s]\n",
            "                 Class     Images  Instances          P          R      mAP50   mAP50-95: 100% 31/31 [00:11<00:00,  2.81it/s]\n",
            "                   all        241      10364      0.181      0.214      0.133     0.0693\n",
            "\n",
            "      Epoch    GPU_mem   box_loss   cls_loss   dfl_loss  Instances       Size\n",
            "      21/24      14.2G      2.735       2.97      2.515         73        640: 100% 214/214 [01:43<00:00,  2.07it/s]\n",
            "                 Class     Images  Instances          P          R      mAP50   mAP50-95: 100% 31/31 [00:11<00:00,  2.73it/s]\n",
            "                   all        241      10364      0.303      0.218      0.138     0.0735\n",
            "\n",
            "      Epoch    GPU_mem   box_loss   cls_loss   dfl_loss  Instances       Size\n",
            "      22/24      14.2G       2.71      2.897      2.447         67        640: 100% 214/214 [01:44<00:00,  2.05it/s]\n",
            "                 Class     Images  Instances          P          R      mAP50   mAP50-95: 100% 31/31 [00:11<00:00,  2.73it/s]\n",
            "                   all        241      10364      0.329       0.24      0.159     0.0851\n",
            "\n",
            "      Epoch    GPU_mem   box_loss   cls_loss   dfl_loss  Instances       Size\n",
            "      23/24      14.2G      2.675       2.91      2.446         56        640: 100% 214/214 [01:44<00:00,  2.04it/s]\n",
            "                 Class     Images  Instances          P          R      mAP50   mAP50-95: 100% 31/31 [00:11<00:00,  2.75it/s]\n",
            "                   all        241      10364       0.18      0.231       0.16     0.0869\n",
            "\n",
            "      Epoch    GPU_mem   box_loss   cls_loss   dfl_loss  Instances       Size\n",
            "      24/24      14.2G      2.631       2.88      2.425        140        640: 100% 214/214 [01:45<00:00,  2.02it/s]\n",
            "                 Class     Images  Instances          P          R      mAP50   mAP50-95: 100% 31/31 [00:10<00:00,  2.92it/s]\n",
            "                   all        241      10364      0.332      0.229      0.167     0.0935\n",
            "\n",
            "25 epochs completed in 0.907 hours.\n",
            "Optimizer stripped from runs/train/exp2/weights/last.pt, 122.4MB\n",
            "Optimizer stripped from runs/train/exp2/weights/best.pt, 122.4MB\n",
            "\n",
            "Validating runs/train/exp2/weights/best.pt...\n",
            "Fusing layers... \n",
            "yolov9_custom summary: 580 layers, 60512080 parameters, 0 gradients, 264.0 GFLOPs\n",
            "                 Class     Images  Instances          P          R      mAP50   mAP50-95: 100% 31/31 [00:22<00:00,  1.38it/s]\n",
            "                   all        241      10364      0.333      0.227      0.168     0.0935\n",
            "                button        241       3094      0.312      0.459      0.342      0.196\n",
            "                 field        241        182      0.331      0.341      0.272      0.165\n",
            "               heading        241        756      0.207      0.365      0.175     0.0848\n",
            "                iframe        241         75          0          0     0.0232    0.00965\n",
            "                 image        241       1866      0.371       0.33       0.28      0.168\n",
            "                 label        241         18          1          0          0          0\n",
            "                  link        241       1339      0.206     0.0814      0.104     0.0576\n",
            "                  text        241       3034      0.238      0.244      0.144     0.0663\n",
            "Results saved to \u001b[1mruns/train/exp2\u001b[0m\n"
          ]
        }
      ]
    },
    {
      "cell_type": "code",
      "source": [
        "!python detect.py --img 1280 --conf 0.1 --device 0 --weights /content/gdrive/MyDrive/yolov9/yolov9/runs/train/exp2/weights/best.pt --source /content/gdrive/MyDrive/yolov9/8eba123f-1fe5-4eaa-baef-d8df73481eac-cover.jpg\n"
      ],
      "metadata": {
        "colab": {
          "base_uri": "https://localhost:8080/"
        },
        "id": "BuTPo0p495zv",
        "outputId": "47480bb8-ecec-463b-8e60-61f560c27c08"
      },
      "execution_count": null,
      "outputs": [
        {
          "output_type": "stream",
          "name": "stdout",
          "text": [
            "python3: can't open file '/content/detect.py': [Errno 2] No such file or directory\n"
          ]
        }
      ]
    },
    {
      "cell_type": "code",
      "source": [
        "from IPython.display import Image\n",
        "Image(filename=\"\",width=600)"
      ],
      "metadata": {
        "id": "CeSxtMBBFKrY"
      },
      "execution_count": null,
      "outputs": []
    }
  ]
}